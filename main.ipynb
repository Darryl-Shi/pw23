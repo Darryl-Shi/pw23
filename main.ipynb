{
 "cells": [
  {
   "cell_type": "code",
   "execution_count": null,
   "metadata": {},
   "outputs": [],
   "source": [
    "import pandas as pd\n",
    "import numpy as np\n",
    "import nltk as nt\n",
    "nt.download('punkt')\n",
    "\n",
    "rdata = pd.read_csv('Datafiniti_Hotel_Reviews.csv', header=0, sep=',', on_bad_lines='skip')\n",
    "rtext, rtitle = rdata['reviews.text'], rdata['reviews.title']\n",
    "\n",
    "# remove \"... More\" from reviews (if it exists)\n",
    "rtext = rtext.str.replace('... More', '', regex=False)\n",
    "\n",
    "# tokenise\n",
    "rtext_tk = []\n",
    "for rev in rtext:\n",
    "\ttk = nt.word_tokenize(rev)\n",
    "\tprint(tk)\n",
    "\t# print(tk)\n",
    "\t# print(type(tk))\n",
    "\trtext_tk.append(tk)"
   ]
  }
 ],
 "metadata": {
  "kernelspec": {
   "display_name": "Python 3",
   "language": "python",
   "name": "python3"
  },
  "language_info": {
   "codemirror_mode": {
    "name": "ipython",
    "version": 3
   },
   "file_extension": ".py",
   "mimetype": "text/x-python",
   "name": "python",
   "nbconvert_exporter": "python",
   "pygments_lexer": "ipython3",
   "version": "3.11.0"
  },
  "orig_nbformat": 4,
  "vscode": {
   "interpreter": {
    "hash": "5238573367df39f7286bb46f9ff5f08f63a01a80960060ce41e3c79b190280fa"
   }
  }
 },
 "nbformat": 4,
 "nbformat_minor": 2
}
