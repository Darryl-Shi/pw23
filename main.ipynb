{
 "cells": [
  {
   "cell_type": "code",
   "execution_count": 36,
   "metadata": {},
   "outputs": [
    {
     "name": "stderr",
     "output_type": "stream",
     "text": [
      "[nltk_data] Downloading package punkt to\n",
      "[nltk_data]     C:\\Users\\211612Y\\AppData\\Roaming\\nltk_data...\n",
      "[nltk_data]   Package punkt is already up-to-date!\n"
     ]
    },
    {
     "name": "stdout",
     "output_type": "stream",
     "text": [
      "[4.0, 0.0, 0.0, 0.0, 0.0, 0.0, 1.0, 0.0, 0.0, 0.0, 0.0, 0.0, 0.0, 0.0, 0.0, 2.0, 0.0, 0.0, 0.0, 0.0, 0.0, 0.0, 0.0, 0.0, 2.0, 0.0, 0.0, 3.0, 0.0, 0.0, 0.0, 0.0, 0.0, 0.0, 0.0, 0.0, 0.0, 0.0, 0.0, 0.0, 0.0, 0.0, 0.0, 0.0, 0.0, 0.0, 0.0, 0.0, 0.0, 0.0, 0.0, 0.0, 0.0, 0.0, 0.0, 0.0, 0.0, 0.0, 0.0, 0.0]\n"
     ]
    }
   ],
   "source": [
    "import pandas as pd\n",
    "import nltk as nt\n",
    "from afinn import Afinn\n",
    "nt.download('punkt')\n",
    "\n",
    "# read the data\n",
    "rdata = pd.read_csv('Datafiniti_Hotel_Reviews.csv', header=0, sep=',', on_bad_lines='skip')\n",
    "\n",
    "# extract the title and body text of each review into a large list\n",
    "rtext, rtitle = rdata['reviews.text'].astype(str), rdata['reviews.title'].astype(str)\n",
    "\n",
    "# remove \"... More\" from reviews (if it exists)\n",
    "# suubstitute every instance of \"... More\" with an empty string\n",
    "rtext = rtext.str.replace('... More', '', regex=False)\n",
    "\n",
    "# tokenise\n",
    "rtext_tk = rtext.apply(nt.word_tokenize)\n",
    "\n",
    "# actually run the sentiment analysis\n",
    "rtext_stm = []\n",
    "afn = Afinn()\n",
    "for rtk in rtext_tk:\n",
    "\tsentiments = [afn.score(r) for r in rtk]\n",
    "\t# print(sentiments)\n",
    "\trtext_stm.append(sentiments)\n",
    "print(rtext_stm[1])\n",
    "# print(afn.score(rtext_tk[1][0]))"
   ]
  }
 ],
 "metadata": {
  "kernelspec": {
   "display_name": "Python 3",
   "language": "python",
   "name": "python3"
  },
  "language_info": {
   "codemirror_mode": {
    "name": "ipython",
    "version": 3
   },
   "file_extension": ".py",
   "mimetype": "text/x-python",
   "name": "python",
   "nbconvert_exporter": "python",
   "pygments_lexer": "ipython3",
   "version": "3.11.0"
  },
  "orig_nbformat": 4,
  "vscode": {
   "interpreter": {
    "hash": "5238573367df39f7286bb46f9ff5f08f63a01a80960060ce41e3c79b190280fa"
   }
  }
 },
 "nbformat": 4,
 "nbformat_minor": 2
}
