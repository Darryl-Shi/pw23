{
 "cells": [
  {
   "attachments": {},
   "cell_type": "markdown",
   "metadata": {},
   "source": [
    "# RQ1\n",
    "\n",
    "## Todo\n",
    "- Clean up punctuation and filler words from the set (eg. _is_, _was_, _at_, _on_)"
   ]
  },
  {
   "cell_type": "code",
   "execution_count": 42,
   "metadata": {},
   "outputs": [
    {
     "name": "stdout",
     "output_type": "stream",
     "text": [
      "Word #1 in Rating #2 ('Amazing') has a score of: 4.0.\n",
      "Word #42 in Rating #69 ('fresh') has a score of: 1.0\n"
     ]
    }
   ],
   "source": [
    "import pandas as pd\n",
    "import nltk as nt\n",
    "from afinn import Afinn\n",
    "# nt.download('punkt') # uncomment this every time you run this program!\n",
    "\n",
    "# read the data\n",
    "rdata = pd.read_csv('Datafiniti_Hotel_Reviews.csv', header=0, sep=',', on_bad_lines='skip')\n",
    "\n",
    "# extract the title and body text of each review into a large list\n",
    "rtext, rtitle = rdata['reviews.text'].astype(str), rdata['reviews.title'].astype(str)\n",
    "\n",
    "# remove \"... More\" from reviews (if it exists)\n",
    "# suubstitute every instance of \"... More\" with an empty string\n",
    "rtext = rtext.str.replace('((Bad|Good):)|\\.\\.\\. More', '', regex=True)\n",
    "\n",
    "# tokenise\n",
    "rtext_tk = rtext.apply(nt.word_tokenize)\n",
    "\n",
    "# create a giant array for sentiments\n",
    "rtext_stm = []\n",
    "\n",
    "afn = Afinn() # initialise an afinn instance\n",
    "\n",
    "# loop through the tokenised list and assign each word a score\n",
    "for rtk in rtext_tk:\n",
    "\tsentiments = [afn.score(r) for r in rtk]\n",
    "\t# print(sentiments)\n",
    "\trtext_stm.append(sentiments)\n",
    "\n",
    "# testing\n",
    "print(f\"Word #1 in Rating #2 ('{rtext_tk[1][0]}') has a score of: {rtext_stm[1][0]}.\")\n",
    "print(f\"Word #42 in Rating #69 ('{rtext_tk[68][41]}') has a score of: {rtext_stm[68][41]}\")"
   ]
  }
 ],
 "metadata": {
  "kernelspec": {
   "display_name": "Python 3",
   "language": "python",
   "name": "python3"
  },
  "language_info": {
   "codemirror_mode": {
    "name": "ipython",
    "version": 3
   },
   "file_extension": ".py",
   "mimetype": "text/x-python",
   "name": "python",
   "nbconvert_exporter": "python",
   "pygments_lexer": "ipython3",
   "version": "3.11.0"
  },
  "orig_nbformat": 4,
  "vscode": {
   "interpreter": {
    "hash": "5238573367df39f7286bb46f9ff5f08f63a01a80960060ce41e3c79b190280fa"
   }
  }
 },
 "nbformat": 4,
 "nbformat_minor": 2
}
