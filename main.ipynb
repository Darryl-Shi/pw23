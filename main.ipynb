{
 "cells": [
  {
   "cell_type": "code",
   "execution_count": 28,
   "metadata": {},
   "outputs": [
    {
     "name": "stderr",
     "output_type": "stream",
     "text": [
      "[nltk_data] Downloading package punkt to\n",
      "[nltk_data]     C:\\Users\\211612Y\\AppData\\Roaming\\nltk_data...\n",
      "[nltk_data]   Package punkt is already up-to-date!\n"
     ]
    },
    {
     "name": "stdout",
     "output_type": "stream",
     "text": [
      "0    [Our, experience, at, Rancho, Valencia, was, a...\n",
      "1    [Amazing, place, ., Everyone, was, extremely, ...\n",
      "2    [We, booked, a, 3, night, stay, at, Rancho, Va...\n",
      "3    [Currently, in, bed, writing, this, for, the, ...\n",
      "4    [I, live, in, Md, and, the, Aloft, is, my, Hom...\n",
      "Name: reviews.text, dtype: object\n"
     ]
    }
   ],
   "source": [
    "import pandas as pd\n",
    "import numpy as np\n",
    "import nltk as nt\n",
    "nt.download('punkt')\n",
    "\n",
    "rdata = pd.read_csv('Datafiniti_Hotel_Reviews.csv', header=0, sep=',', on_bad_lines='skip')\n",
    "rtext, rtitle = rdata['reviews.text'].astype(str), rdata['reviews.title'].astype(str)\n",
    "\n",
    "# remove \"... More\" from reviews (if it exists)\n",
    "rtext = rtext.str.replace('... More', '', regex=False)\n",
    "\n",
    "# tokenise\n",
    "rtext_tk = rtext.apply(nt.word_tokenize)"
   ]
  }
 ],
 "metadata": {
  "kernelspec": {
   "display_name": "Python 3",
   "language": "python",
   "name": "python3"
  },
  "language_info": {
   "codemirror_mode": {
    "name": "ipython",
    "version": 3
   },
   "file_extension": ".py",
   "mimetype": "text/x-python",
   "name": "python",
   "nbconvert_exporter": "python",
   "pygments_lexer": "ipython3",
   "version": "3.11.0"
  },
  "orig_nbformat": 4,
  "vscode": {
   "interpreter": {
    "hash": "5238573367df39f7286bb46f9ff5f08f63a01a80960060ce41e3c79b190280fa"
   }
  }
 },
 "nbformat": 4,
 "nbformat_minor": 2
}
